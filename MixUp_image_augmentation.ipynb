{
  "nbformat": 4,
  "nbformat_minor": 0,
  "metadata": {
    "colab": {
      "name": "MixUp_image_augmentation.ipynb",
      "provenance": [],
      "collapsed_sections": []
    },
    "kernelspec": {
      "name": "python3",
      "display_name": "Python 3"
    },
    "language_info": {
      "name": "python"
    },
    "accelerator": "GPU"
  },
  "cells": [
    {
      "cell_type": "markdown",
      "source": [
        "**Import Packages**"
      ],
      "metadata": {
        "id": "-zyXhixvd98M"
      }
    },
    {
      "cell_type": "code",
      "execution_count": 36,
      "metadata": {
        "id": "rPU7v4d26ZFs"
      },
      "outputs": [],
      "source": [
        "import numpy as np\n",
        "import tensorflow as tf\n",
        "import matplotlib.pyplot as plt\n",
        "from tensorflow import keras\n",
        "from tensorflow.keras import layers"
      ]
    },
    {
      "cell_type": "markdown",
      "source": [
        "**Prepare dataset**"
      ],
      "metadata": {
        "id": "cL4p20YHQORs"
      }
    },
    {
      "cell_type": "code",
      "source": [
        "num_classes = 10"
      ],
      "metadata": {
        "id": "7cJxYb6BRpKW"
      },
      "execution_count": 2,
      "outputs": []
    },
    {
      "cell_type": "code",
      "source": [
        "train_set, test_set = tf.keras.datasets.mnist.load_data()\n",
        "\n",
        "x_train_0 = train_set[0].astype(\"float32\") / 255\n",
        "x_train_0 = np.expand_dims(x_train_0, -1)\n",
        "y_train_0 = tf.one_hot(train_set[1], num_classes)\n",
        "\n",
        "x_test = test_set[0].astype(\"float32\") / 255\n",
        "x_test = np.expand_dims(x_test, -1)\n",
        "y_test = tf.one_hot(test_set[1], num_classes)\n",
        "\n",
        "print(x_train_0.shape, x_test.shape)\n",
        "print(y_train_0.shape, y_test.shape)"
      ],
      "metadata": {
        "colab": {
          "base_uri": "https://localhost:8080/"
        },
        "id": "J3qzxVKwQC_v",
        "outputId": "89ce24cc-33f1-4ad4-8190-0c35964b8e61"
      },
      "execution_count": 3,
      "outputs": [
        {
          "output_type": "stream",
          "name": "stdout",
          "text": [
            "Downloading data from https://storage.googleapis.com/tensorflow/tf-keras-datasets/mnist.npz\n",
            "11493376/11490434 [==============================] - 0s 0us/step\n",
            "11501568/11490434 [==============================] - 0s 0us/step\n",
            "(60000, 28, 28, 1) (10000, 28, 28, 1)\n",
            "(60000, 10) (10000, 10)\n"
          ]
        }
      ]
    },
    {
      "cell_type": "markdown",
      "source": [
        "**Hyperparameters**"
      ],
      "metadata": {
        "id": "OaY8o9_7SK2D"
      }
    },
    {
      "cell_type": "code",
      "source": [
        "AUTOTUNE = tf.data.AUTOTUNE\n",
        "batch_size = 64\n",
        "epochs = 15"
      ],
      "metadata": {
        "id": "Jyqcm3rXSQW-"
      },
      "execution_count": 47,
      "outputs": []
    },
    {
      "cell_type": "markdown",
      "source": [
        "**Convert data into TensorFlow Dataset objects**"
      ],
      "metadata": {
        "id": "N8Qm8uR5TuxM"
      }
    },
    {
      "cell_type": "code",
      "source": [
        "val_size = 5000\n",
        "\n",
        "x_val, y_val = x_train_0[:val_size], y_train_0[:val_size]\n",
        "x_train, y_train = x_train_0[val_size:], y_train_0[val_size:] \n",
        "\n",
        "train_ds_1 = (\n",
        "    tf.data.Dataset.from_tensor_slices((x_train,y_train))\n",
        "    .shuffle(batch_size*100)\n",
        "    .batch(batch_size)\n",
        ")\n",
        "\n",
        "train_ds_2 = (\n",
        "    tf.data.Dataset.from_tensor_slices((x_train,y_train))\n",
        "    .shuffle(batch_size*100)\n",
        "    .batch(batch_size)\n",
        ")\n",
        "\n",
        "# Mixing up 2 train_dataset by combining 2 shuffled datasets\n",
        "train_ds = tf.data.Dataset.zip((train_ds_1, train_ds_2))\n",
        "val_ds = tf.data.Dataset.from_tensor_slices((x_val, y_val)).batch(batch_size)\n",
        "test_ds = tf.data.Dataset.from_tensor_slices((x_test, y_test)).batch(batch_size)"
      ],
      "metadata": {
        "id": "jThpUF38Tw_n"
      },
      "execution_count": 48,
      "outputs": []
    },
    {
      "cell_type": "code",
      "source": [
        "count = 0\n",
        "for element in train_ds:\n",
        "  count +=1\n",
        "print(count)"
      ],
      "metadata": {
        "colab": {
          "base_uri": "https://localhost:8080/"
        },
        "id": "iZcpip2Xbbg5",
        "outputId": "5d5f1b38-36a2-4586-991e-27378cc0b145"
      },
      "execution_count": 31,
      "outputs": [
        {
          "output_type": "stream",
          "name": "stdout",
          "text": [
            "860\n"
          ]
        }
      ]
    },
    {
      "cell_type": "markdown",
      "source": [
        "**Define the MixUp technique function**"
      ],
      "metadata": {
        "id": "pe9gkSHbdyp-"
      }
    },
    {
      "cell_type": "markdown",
      "source": [
        "`new_x = lambda * x1 + (1 - lambda) * x2 (where x1 and x2 are images)`"
      ],
      "metadata": {
        "id": "tlAFdmyMjj0k"
      }
    },
    {
      "cell_type": "code",
      "source": [
        "def beta_distribution(shape, concentration_1, concentration_2):\n",
        "  gamma_1 = tf.random.gamma(shape=[shape], alpha=concentration_1)\n",
        "  gamma_2 = tf.random.gamma(shape=[shape], alpha=concentration_2)\n",
        "\n",
        "  return gamma_1 / (gamma_1 + gamma_2)\n",
        "\n",
        "def mix_up(ds_1, ds_2, alpha=0.2):\n",
        "  # Unpack datasets\n",
        "  images_1, labels_1 = ds_1\n",
        "  images_2, labels_2 = ds_2\n",
        "  batch_size = tf.shape(images_1)[0]\n",
        "\n",
        "  sample = beta_distribution(batch_size, alpha, alpha)\n",
        "  x_sample = tf.reshape(sample, (batch_size, 1, 1, 1))\n",
        "  y_sample = tf.reshape(sample, (batch_size,1))\n",
        "\n",
        "  images = images_1*x_sample + images_2*(1-x_sample)\n",
        "  labels = labels_1*y_sample + labels_2*(1-y_sample)\n",
        "\n",
        "  return (images, labels)"
      ],
      "metadata": {
        "id": "gOOqWcctd7Md"
      },
      "execution_count": 34,
      "outputs": []
    },
    {
      "cell_type": "markdown",
      "source": [
        "**Visualize augmented data**"
      ],
      "metadata": {
        "id": "WcqUwoGNj-pW"
      }
    },
    {
      "cell_type": "code",
      "source": [
        "train_ds_mixed = train_ds.map(\n",
        "    lambda ds_1, ds_2 : mix_up(ds_1, ds_2, alpha=0.2), num_parallel_calls = AUTOTUNE\n",
        ")\n",
        "\n",
        "sample_images, sample_labels = next(iter(train_ds_mixed))\n",
        "\n",
        "plt.figure(figsize =(10,10))\n",
        "for i, (image, label) in enumerate(zip(sample_images[:9], sample_labels[:9])):\n",
        "  ax = plt.subplot(3,3,i+1)\n",
        "  plt.imshow(image.numpy().squeeze())\n",
        "  print(label.numpy().tolist())\n",
        "  plt.axis(\"off\")"
      ],
      "metadata": {
        "colab": {
          "base_uri": "https://localhost:8080/",
          "height": 731
        },
        "id": "hz4-vXZckCNq",
        "outputId": "46db54d0-2a02-4322-ea67-000bcbd9166a"
      },
      "execution_count": 35,
      "outputs": [
        {
          "output_type": "stream",
          "name": "stdout",
          "text": [
            "[0.0, 0.0, 0.0, 0.0, 0.0, 0.0, 0.0, 0.0, 0.23776352405548096, 0.762236475944519]\n",
            "[0.0, 0.0, 0.0, 0.0, 0.0, 0.006525218486785889, 0.9934747815132141, 0.0, 0.0, 0.0]\n",
            "[0.0, 0.0, 0.0, 0.0, 0.008887882344424725, 0.0, 0.0, 0.0, 0.0, 0.9911121129989624]\n",
            "[0.0, 0.0, 0.0, 0.0, 0.0, 0.0, 1.0, 0.0, 0.0, 0.0]\n",
            "[0.0, 0.9648013114929199, 0.0, 0.0, 0.0, 0.0, 0.03519866615533829, 0.0, 0.0, 0.0]\n",
            "[0.0, 0.2415054440498352, 0.7584945559501648, 0.0, 0.0, 0.0, 0.0, 0.0, 0.0, 0.0]\n",
            "[0.0, 0.0, 0.0, 0.0, 0.0, 0.0, 0.0, 0.0, 0.0, 1.0]\n",
            "[0.0, 0.0, 0.0, 0.0, 0.6011260747909546, 0.0, 0.3988739252090454, 0.0, 0.0, 0.0]\n",
            "[0.9999998807907104, 0.0, 0.0, 0.0, 0.0, 0.0, 1.3575507296081923e-07, 0.0, 0.0, 0.0]\n"
          ]
        },
        {
          "output_type": "display_data",
          "data": {
            "text/plain": [
              "<Figure size 720x720 with 9 Axes>"
            ],
            "image/png": "[encoded data removed]"
          },
          "metadata": {
            "needs_background": "light"
          }
        }
      ]
    },
    {
      "cell_type": "markdown",
      "source": [
        "**Build Model**"
      ],
      "metadata": {
        "id": "IWZrDdmgn2uJ"
      }
    },
    {
      "cell_type": "code",
      "source": [
        "def build_model():\n",
        "  model = keras.Sequential([\n",
        "          keras.Input(shape = (28,28,1)),\n",
        "          layers.Conv2D(32, kernel_size=(3, 3), activation=\"relu\"),\n",
        "          layers.MaxPooling2D(pool_size=(2, 2)),\n",
        "          layers.Conv2D(64, kernel_size=(3, 3), activation=\"relu\"),\n",
        "          layers.MaxPooling2D(pool_size=(2, 2)),\n",
        "          layers.Dropout(0.2),\n",
        "          layers.GlobalAvgPool2D(),\n",
        "          layers.Dense(128, activation=\"relu\"),\n",
        "          layers.Dense(num_classes, activation=\"softmax\")\n",
        "  ])\n",
        "\n",
        "  return model"
      ],
      "metadata": {
        "id": "8uevQwSKn43V"
      },
      "execution_count": 39,
      "outputs": []
    },
    {
      "cell_type": "markdown",
      "source": [
        "We save the initial random weights to compare model with mixed up data and model with initial data"
      ],
      "metadata": {
        "id": "FjUzqkWHrM3j"
      }
    },
    {
      "cell_type": "code",
      "source": [
        "initial_model = build_model()\n",
        "initial_model.save_weights(\"initial_weights.h5\")"
      ],
      "metadata": {
        "id": "gVwFcAFHqtwh"
      },
      "execution_count": 40,
      "outputs": []
    },
    {
      "cell_type": "markdown",
      "source": [
        "**Train model with the mixed up data**"
      ],
      "metadata": {
        "id": "XVuDFp8MrBQL"
      }
    },
    {
      "cell_type": "code",
      "source": [
        "model = build_model()\n",
        "model.load_weights(\"initial_weights.h5\")\n",
        "model.compile(loss = \"categorical_crossentropy\", optimizer=\"adam\", metrics = [\"accuracy\"])\n",
        "history = model.fit(train_ds_mixed, validation_data=val_ds, epochs= epochs)"
      ],
      "metadata": {
        "colab": {
          "base_uri": "https://localhost:8080/"
        },
        "id": "M_ebiu7oq957",
        "outputId": "62c5bf1a-822f-4a13-b45a-1d58c9b3d373"
      },
      "execution_count": 41,
      "outputs": [
        {
          "output_type": "stream",
          "name": "stdout",
          "text": [
            "Epoch 1/15\n",
            "860/860 [==============================] - 20s 8ms/step - loss: 1.3116 - accuracy: 0.6076 - val_loss: 0.5112 - val_accuracy: 0.8606\n",
            "Epoch 2/15\n",
            "860/860 [==============================] - 7s 8ms/step - loss: 0.8240 - accuracy: 0.8190 - val_loss: 0.3920 - val_accuracy: 0.8884\n",
            "Epoch 3/15\n",
            "860/860 [==============================] - 7s 8ms/step - loss: 0.7147 - accuracy: 0.8610 - val_loss: 0.2797 - val_accuracy: 0.9248\n",
            "Epoch 4/15\n",
            "860/860 [==============================] - 8s 9ms/step - loss: 0.6610 - accuracy: 0.8811 - val_loss: 0.2102 - val_accuracy: 0.9514\n",
            "Epoch 5/15\n",
            "860/860 [==============================] - 7s 8ms/step - loss: 0.6183 - accuracy: 0.8949 - val_loss: 0.1869 - val_accuracy: 0.9580\n",
            "Epoch 6/15\n",
            "860/860 [==============================] - 7s 8ms/step - loss: 0.6001 - accuracy: 0.9023 - val_loss: 0.1660 - val_accuracy: 0.9588\n",
            "Epoch 7/15\n",
            "860/860 [==============================] - 7s 9ms/step - loss: 0.5698 - accuracy: 0.9113 - val_loss: 0.1503 - val_accuracy: 0.9652\n",
            "Epoch 8/15\n",
            "860/860 [==============================] - 7s 8ms/step - loss: 0.5530 - accuracy: 0.9169 - val_loss: 0.1374 - val_accuracy: 0.9674\n",
            "Epoch 9/15\n",
            "860/860 [==============================] - 7s 8ms/step - loss: 0.5367 - accuracy: 0.9240 - val_loss: 0.1323 - val_accuracy: 0.9686\n",
            "Epoch 10/15\n",
            "860/860 [==============================] - 10s 12ms/step - loss: 0.5238 - accuracy: 0.9242 - val_loss: 0.1140 - val_accuracy: 0.9726\n",
            "Epoch 11/15\n",
            "860/860 [==============================] - 7s 8ms/step - loss: 0.5159 - accuracy: 0.9307 - val_loss: 0.1067 - val_accuracy: 0.9756\n",
            "Epoch 12/15\n",
            "860/860 [==============================] - 7s 8ms/step - loss: 0.5032 - accuracy: 0.9336 - val_loss: 0.1013 - val_accuracy: 0.9760\n",
            "Epoch 13/15\n",
            "860/860 [==============================] - 7s 8ms/step - loss: 0.5002 - accuracy: 0.9342 - val_loss: 0.0869 - val_accuracy: 0.9770\n",
            "Epoch 14/15\n",
            "860/860 [==============================] - 7s 8ms/step - loss: 0.4894 - accuracy: 0.9368 - val_loss: 0.0949 - val_accuracy: 0.9772\n",
            "Epoch 15/15\n",
            "860/860 [==============================] - 7s 8ms/step - loss: 0.4884 - accuracy: 0.9360 - val_loss: 0.0842 - val_accuracy: 0.9794\n"
          ]
        }
      ]
    },
    {
      "cell_type": "code",
      "source": [
        "accuracy = history.history['accuracy']\n",
        "val_accuracy = history.history['val_accuracy']\n",
        "loss = history.history['loss']\n",
        "val_loss = history.history['val_loss']\n",
        "\n",
        "e = range(len(accuracy))\n",
        "\n",
        "# Plot training and validation accuracy\n",
        "plt.plot(e, accuracy,color='blue')\n",
        "plt.plot(e, val_accuracy, color = 'red')\n",
        "plt.legend(['Accuracy', 'validation accuracy'])\n",
        "plt.title ('Training and validation accuracy')\n",
        "plt.figure()"
      ],
      "metadata": {
        "colab": {
          "base_uri": "https://localhost:8080/",
          "height": 316
        },
        "id": "q3q84UQdtCzQ",
        "outputId": "10c44b07-0e1f-49c9-eb70-7cd5be49d2c5"
      },
      "execution_count": 46,
      "outputs": [
        {
          "output_type": "execute_result",
          "data": {
            "text/plain": [
              "<Figure size 432x288 with 0 Axes>"
            ]
          },
          "metadata": {},
          "execution_count": 46
        },
        {
          "output_type": "display_data",
          "data": {
            "text/plain": [
              "<Figure size 432x288 with 1 Axes>"
            ],
            "image/png": "[encoded data removed]"
          },
          "metadata": {
            "needs_background": "light"
          }
        },
        {
          "output_type": "display_data",
          "data": {
            "text/plain": [
              "<Figure size 432x288 with 0 Axes>"
            ]
          },
          "metadata": {}
        }
      ]
    },
    {
      "cell_type": "code",
      "source": [
        "_, test_acc = model.evaluate(test_ds)\n",
        "print(\"Test accuracy: {:.2f}%\".format(test_acc * 100))"
      ],
      "metadata": {
        "colab": {
          "base_uri": "https://localhost:8080/"
        },
        "id": "KDilXSk9tTBs",
        "outputId": "4c156222-8bd0-45a3-c48d-5183ae85e330"
      },
      "execution_count": 43,
      "outputs": [
        {
          "output_type": "stream",
          "name": "stdout",
          "text": [
            "157/157 [==============================] - 1s 5ms/step - loss: 0.0878 - accuracy: 0.9803\n",
            "Test accuracy: 98.03%\n"
          ]
        }
      ]
    },
    {
      "cell_type": "markdown",
      "source": [
        "**Train model with original data**"
      ],
      "metadata": {
        "id": "K8GkvkI4skuM"
      }
    },
    {
      "cell_type": "code",
      "source": [
        "model = build_model()\n",
        "model.load_weights(\"initial_weights.h5\")\n",
        "model.compile(loss = \"categorical_crossentropy\", optimizer=\"adam\", metrics = [\"accuracy\"])\n",
        "history = model.fit(train_ds_1, validation_data=val_ds, epochs= epochs)"
      ],
      "metadata": {
        "colab": {
          "base_uri": "https://localhost:8080/"
        },
        "id": "UBYLocp-sqES",
        "outputId": "3f64dfe6-0d52-4e12-cd68-13d11d12b946"
      },
      "execution_count": 49,
      "outputs": [
        {
          "output_type": "stream",
          "name": "stdout",
          "text": [
            "Epoch 1/15\n",
            "860/860 [==============================] - 7s 8ms/step - loss: 1.0213 - accuracy: 0.6569 - val_loss: 0.4589 - val_accuracy: 0.8686\n",
            "Epoch 2/15\n",
            "860/860 [==============================] - 7s 8ms/step - loss: 0.4362 - accuracy: 0.8646 - val_loss: 0.2865 - val_accuracy: 0.9212\n",
            "Epoch 3/15\n",
            "860/860 [==============================] - 8s 10ms/step - loss: 0.3270 - accuracy: 0.8973 - val_loss: 0.2345 - val_accuracy: 0.9342\n",
            "Epoch 4/15\n",
            "860/860 [==============================] - 9s 10ms/step - loss: 0.2701 - accuracy: 0.9156 - val_loss: 0.1994 - val_accuracy: 0.9408\n",
            "Epoch 5/15\n",
            "860/860 [==============================] - 9s 10ms/step - loss: 0.2360 - accuracy: 0.9258 - val_loss: 0.1684 - val_accuracy: 0.9488\n",
            "Epoch 6/15\n",
            "860/860 [==============================] - 7s 8ms/step - loss: 0.2151 - accuracy: 0.9334 - val_loss: 0.1590 - val_accuracy: 0.9516\n",
            "Epoch 7/15\n",
            "860/860 [==============================] - 7s 8ms/step - loss: 0.1911 - accuracy: 0.9408 - val_loss: 0.1365 - val_accuracy: 0.9610\n",
            "Epoch 8/15\n",
            "860/860 [==============================] - 7s 8ms/step - loss: 0.1740 - accuracy: 0.9459 - val_loss: 0.1179 - val_accuracy: 0.9660\n",
            "Epoch 9/15\n",
            "860/860 [==============================] - 7s 8ms/step - loss: 0.1605 - accuracy: 0.9513 - val_loss: 0.1173 - val_accuracy: 0.9642\n",
            "Epoch 10/15\n",
            "860/860 [==============================] - 7s 8ms/step - loss: 0.1489 - accuracy: 0.9544 - val_loss: 0.1061 - val_accuracy: 0.9678\n",
            "Epoch 11/15\n",
            "860/860 [==============================] - 7s 8ms/step - loss: 0.1376 - accuracy: 0.9570 - val_loss: 0.1014 - val_accuracy: 0.9676\n",
            "Epoch 12/15\n",
            "860/860 [==============================] - 7s 8ms/step - loss: 0.1301 - accuracy: 0.9589 - val_loss: 0.1001 - val_accuracy: 0.9694\n",
            "Epoch 13/15\n",
            "860/860 [==============================] - 7s 8ms/step - loss: 0.1217 - accuracy: 0.9618 - val_loss: 0.0847 - val_accuracy: 0.9754\n",
            "Epoch 14/15\n",
            "860/860 [==============================] - 7s 8ms/step - loss: 0.1149 - accuracy: 0.9648 - val_loss: 0.1088 - val_accuracy: 0.9670\n",
            "Epoch 15/15\n",
            "860/860 [==============================] - 7s 8ms/step - loss: 0.1095 - accuracy: 0.9665 - val_loss: 0.0887 - val_accuracy: 0.9734\n"
          ]
        }
      ]
    },
    {
      "cell_type": "code",
      "source": [
        "accuracy = history.history['accuracy']\n",
        "val_accuracy = history.history['val_accuracy']\n",
        "loss = history.history['loss']\n",
        "val_loss = history.history['val_loss']\n",
        "\n",
        "e = range(len(accuracy))\n",
        "\n",
        "# Plot training and validation accuracy\n",
        "plt.plot(e, accuracy,color='blue')\n",
        "plt.plot(e, val_accuracy, color = 'red')\n",
        "plt.legend(['Accuracy', 'validation accuracy'])\n",
        "plt.title ('Training and validation accuracy')\n",
        "plt.figure()"
      ],
      "metadata": {
        "colab": {
          "base_uri": "https://localhost:8080/",
          "height": 316
        },
        "id": "-x7F2CVNt7jm",
        "outputId": "ae197309-13dc-4bb2-d455-85d8b3772d65"
      },
      "execution_count": 50,
      "outputs": [
        {
          "output_type": "execute_result",
          "data": {
            "text/plain": [
              "<Figure size 432x288 with 0 Axes>"
            ]
          },
          "metadata": {},
          "execution_count": 50
        },
        {
          "output_type": "display_data",
          "data": {
            "text/plain": [
              "<Figure size 432x288 with 1 Axes>"
            ],
            "image/png": "[encoded data removed]"
          },
          "metadata": {
            "needs_background": "light"
          }
        },
        {
          "output_type": "display_data",
          "data": {
            "text/plain": [
              "<Figure size 432x288 with 0 Axes>"
            ]
          },
          "metadata": {}
        }
      ]
    },
    {
      "cell_type": "code",
      "source": [
        "_, test_acc = model.evaluate(test_ds)\n",
        "print(\"Test accuracy: {:.2f}%\".format(test_acc * 100))"
      ],
      "metadata": {
        "colab": {
          "base_uri": "https://localhost:8080/"
        },
        "id": "Kv-hmAp0t-X4",
        "outputId": "3cf0374d-44d2-45e6-f380-d31d485bf3c3"
      },
      "execution_count": 51,
      "outputs": [
        {
          "output_type": "stream",
          "name": "stdout",
          "text": [
            "157/157 [==============================] - 1s 5ms/step - loss: 0.0879 - accuracy: 0.9739\n",
            "Test accuracy: 97.39%\n"
          ]
        }
      ]
    }
  ]
}